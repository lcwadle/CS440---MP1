{
 "cells": [
  {
   "cell_type": "markdown",
   "metadata": {},
   "source": [
    "# CS440 Assignment 1 - Search"
   ]
  },
  {
   "cell_type": "markdown",
   "metadata": {},
   "source": [
    "## Part 1.1"
   ]
  },
  {
   "cell_type": "markdown",
   "metadata": {},
   "source": [
    "## State Representation"
   ]
  },
  {
   "cell_type": "code",
   "execution_count": 45,
   "metadata": {
    "collapsed": true,
    "scrolled": false
   },
   "outputs": [],
   "source": [
    "class Node:\n",
    "    def __init__(self, rowPos, colPos, value):\n",
    "        self.rowPos = rowPos\n",
    "        self.colPos = colPos\n",
    "        self.value = value\n",
    "        self.isWall = False  \n",
    "        self.isGoal = False\n",
    "        self.distance = 0"
   ]
  },
  {
   "cell_type": "code",
   "execution_count": 270,
   "metadata": {
    "collapsed": true,
    "scrolled": false
   },
   "outputs": [],
   "source": [
    "from collections import deque\n",
    "from IPython.display import clear_output\n",
    "import sys\n",
    "import time\n",
    "\n",
    "goal_dict = {}\n",
    "\n",
    "class Maze:\n",
    "    def __init__(self, filename):     \n",
    "        self.goals = []\n",
    "        self.boxes = []\n",
    "        self.goalCounter = '0'\n",
    "        self.start = None\n",
    "        self.rowsInMaze = 0\n",
    "        self.colsInMaze = 0\n",
    "        self.colsList = []\n",
    "        self.path = []\n",
    "        self.explored = {}\n",
    "        self.nodesExpanded = 0\n",
    "        \n",
    "        # Read maze from file\n",
    "        mazeObject = open(filename, 'r')\n",
    "        rows = 0\n",
    "        \n",
    "        # Loop through rows in Maze\n",
    "        for line in mazeObject:\n",
    "            rowList = []\n",
    "            cols = 0\n",
    "            \n",
    "            # Loop through columns in Maze\n",
    "            for char in line[:-1]:\n",
    "                node = Node(rows, cols, char)\n",
    "                \n",
    "                rowList.append(node)\n",
    "                \n",
    "                # Look for starting point\n",
    "                if char == 'P':\n",
    "                    self.start = node\n",
    "                    \n",
    "                # Look for goals\n",
    "                if char == '.':\n",
    "                    node.isGoal = True\n",
    "                    self.goals.append(node)\n",
    "                    \n",
    "                # Look for walls\n",
    "                if char == '%':\n",
    "                    node.isWall = True\n",
    "                    \n",
    "                # Look for boxes\n",
    "                if char == 'b':\n",
    "                    self.boxes.append(node)\n",
    "                \n",
    "                # Look for boxes\n",
    "                if char == 'B':\n",
    "                    self.boxes.append(node)\n",
    "                    self.goals.append(node)\n",
    "                    node.isGoal = True\n",
    "                \n",
    "                cols = cols + 1\n",
    "            rows = rows + 1\n",
    "        \n",
    "            self.colsList.append(rowList)\n",
    "            self.colsInMaze = len(rowList)\n",
    "        \n",
    "        self.rowsInMaze = rows\n",
    "    \n",
    "    def runSokobanSearch(self, searchType):\n",
    "        startTime = time.time()\n",
    "        state = State(self.start, self.goals[:], self.boxes[:])\n",
    "        self.explored[hash(state)] = state\n",
    "        \n",
    "        if searchType == 'bfs':\n",
    "            self.frontier = deque([])\n",
    "        else:\n",
    "            self.frontier = []\n",
    "        \n",
    "        # Initialize frontier based on starting node\n",
    "        addToFrontierSokoban(state, self)\n",
    "        \n",
    "        while self.frontier != []:\n",
    "            if searchType == 'bfs':\n",
    "                nextState = self.frontier.popleft()\n",
    "                state = sokobanMove(nextState, self)\n",
    "        \n",
    "            if searchType == 'astarv2': \n",
    "                index = 0\n",
    "                total_distance = sys.maxsize\n",
    "                for i in range(0, len(self.frontier)):\n",
    "                    if self.frontier[i].distance <= total_distance:\n",
    "                        total_distance = self.frontier[i].distance\n",
    "                        index = i\n",
    "                nextState = self.frontier.pop(index)\n",
    "                state = sokobanMove(nextState, self)\n",
    "            \n",
    "            # Check if no goals exist\n",
    "            if (sokobanGoalTest(state.goals)):\n",
    "                endTime = time.time()\n",
    "                print(endTime - startTime)\n",
    "                path = []\n",
    "                while state.previous != None:\n",
    "                    path.append(state)\n",
    "                    state = state.previous\n",
    "                print(\"Nodes Expanded: \" + str(self.nodesExpanded))\n",
    "                print(\"Nodes in Path: \" + str(len(path)))\n",
    "                self.printMaze()\n",
    "                return\n",
    "    \n",
    "    def runSearch(self, searchType):   \n",
    "        startTime = time.time()\n",
    "        state = State(self.start, self.goals[:], self.boxes[:])\n",
    "        self.explored[hash(state)] = state\n",
    "        \n",
    "        if searchType == 'bfs':\n",
    "            self.frontier = deque([])\n",
    "        else:\n",
    "            self.frontier = []\n",
    "\n",
    "        # Initialize frontier based on starting node\n",
    "        addToFrontier(state, self)        \n",
    "\n",
    "        while self.frontier != []:\n",
    "            # Search Algorithms\n",
    "            if searchType == 'dfs':\n",
    "                nextState = self.frontier.pop()\n",
    "                state = move(nextState, self)\n",
    "                \n",
    "            if searchType == 'bfs':\n",
    "                nextState = self.frontier.popleft()\n",
    "                state = move(nextState, self)\n",
    "\n",
    "            if searchType == 'gbfs':\n",
    "                distance = sys.maxsize     \n",
    "                index = 0\n",
    "                for i in range(0, len(self.frontier)):\n",
    "                    for goal in state.goals:\n",
    "                        if abs(self.frontier[i].currentRowPos - goal.rowPos) + abs(self.frontier[i].currentColPos - goal.colPos) <= distance:\n",
    "                            distance = abs(self.frontier[i].currentRowPos - goal.rowPos) + abs(self.frontier[i].currentColPos - goal.colPos)\n",
    "                            index = i\n",
    "                nextState = self.frontier.pop(index)\n",
    "                state = move(nextState, self)\n",
    "\n",
    "            if searchType == 'astar':\n",
    "                distance = sys.maxsize     \n",
    "                index = 0\n",
    "                for i in range(0, len(self.frontier)):\n",
    "                    for goal in state.goals:\n",
    "                        distance_to_goal = abs(self.frontier[i].currentRowPos - goal.rowPos) + abs(self.frontier[i].currentColPos - goal.colPos)\n",
    "                        distance_from_start = self.frontier[i].cost\n",
    "\n",
    "                        if distance_to_goal + distance_from_start <= distance:\n",
    "                            distance = distance_to_goal + distance_from_start\n",
    "                            index = i\n",
    "\n",
    "                nextState = self.frontier.pop(index)\n",
    "                state = move(nextState, self)\n",
    "                \n",
    "            if searchType == 'astarv2': \n",
    "                index = 0\n",
    "                total_distance = sys.maxsize\n",
    "                for i in range(0, len(self.frontier)):\n",
    "                    if self.frontier[i].distance <= total_distance:\n",
    "                        total_distance = self.frontier[i].distance\n",
    "                        index = i\n",
    "                #print(\"Distance: \" + str(self.frontier[index].distance))\n",
    "                nextState = self.frontier.pop(index)\n",
    "                state = move(nextState, self)\n",
    "\n",
    "            # Check if no goals exist\n",
    "            if (goalTest(state.goals)):\n",
    "                endTime = time.time()\n",
    "                print(endTime - startTime)\n",
    "                path = []\n",
    "                if len(self.goals) > 10:\n",
    "                    self.goalCounter = chr(ord('a') + len(self.goals) - 10)\n",
    "                else:\n",
    "                    self.goalCounter = chr(ord('0') + len(self.goals))\n",
    "                while state.previous != None:\n",
    "                    if state.getCurrentNode(self).isGoal and state.getCurrentNode(self).value == '.':\n",
    "                        state.getCurrentNode(self).value = self.goalCounter\n",
    "                        self.goalCounter = incrementGoalCounter(self.goalCounter)\n",
    "                    if state.getCurrentNode(self).value == ' ':\n",
    "                        state.getCurrentNode(self).value = '.'\n",
    "                    path.append(state)\n",
    "                    state = state.previous\n",
    "                print(\"Nodes Expanded: \" + str(self.nodesExpanded))\n",
    "                print(\"Nodes in Path: \" + str(len(path)))\n",
    "                self.printMaze()\n",
    "                return\n",
    "\n",
    "    def printMaze(self):          \n",
    "        for row in self.colsList:\n",
    "            line = \"\"\n",
    "            for node in row:\n",
    "                line += node.value\n",
    "            print(line)"
   ]
  },
  {
   "cell_type": "code",
   "execution_count": 180,
   "metadata": {
    "collapsed": true
   },
   "outputs": [],
   "source": [
    "import sys\n",
    "def furthestDistance(state):\n",
    "    verticalMax = 0\n",
    "    verticalMin = sys.maxsize\n",
    "    horizontalMax = 0\n",
    "    horizontalMin = sys.maxsize\n",
    "    shortestPath = sys.maxsize\n",
    "    shortestGoalRow = state.currentRowPos\n",
    "    shortestGoalCol = state.currentColPos\n",
    "    \n",
    "    for goal in state.goals:\n",
    "        if goal.rowPos >= verticalMax:\n",
    "            verticalMax = goal.rowPos\n",
    "        if goal.colPos >= horizontalMax:\n",
    "            horizontalMax = goal.colPos\n",
    "        if goal.rowPos <= verticalMin:\n",
    "            verticalMin = goal.rowPos\n",
    "        if goal.colPos <= horizontalMin:\n",
    "            horizontalMin = goal.colPos\n",
    "        if abs(state.currentRowPos - goal.rowPos) + abs(state.currentColPos - goal.colPos) <= shortestPath:\n",
    "            shortestPath = abs(state.currentRowPos - goal.rowPos) + abs(state.currentColPos - goal.colPos)\n",
    "            shortestGoalRow = goal.rowPos\n",
    "            shortestGoalCol = goal.colPos\n",
    "\n",
    "    closestBorderVertical = abs(shortestGoalRow - verticalMax)\n",
    "    if closestBorderVertical >= abs(shortestGoalRow - verticalMin):\n",
    "        closestBorderVertical = abs(shortestGoalRow - verticalMin)\n",
    "    closestBorderHorizontal = abs(shortestGoalCol - horizontalMax)\n",
    "    if closestBorderHorizontal >= abs(shortestGoalCol - horizontalMin):\n",
    "        closestBorderHorizontal = abs(shortestGoalCol - horizontalMin)\n",
    "    return abs(verticalMax - verticalMin) + abs(horizontalMax - horizontalMin) + shortestPath + closestBorderVertical + closestBorderHorizontal"
   ]
  },
  {
   "cell_type": "code",
   "execution_count": 51,
   "metadata": {
    "collapsed": true,
    "scrolled": false
   },
   "outputs": [],
   "source": [
    "class State:\n",
    "    def __init__(self, currentNode, goals, boxes):\n",
    "        self.goals = goals\n",
    "        self.boxes = boxes\n",
    "        self.currentRowPos = currentNode.rowPos\n",
    "        self.currentColPos = currentNode.colPos\n",
    "        self.cost = 0\n",
    "        self.previous = None\n",
    "    \n",
    "    def __hash__(self):\n",
    "        goalString = \"\"\n",
    "        boxString = \"\"\n",
    "        for goal in self.goals:\n",
    "            goalString += str(goal.rowPos) + str(goal.colPos)\n",
    "        if self.boxes != None:\n",
    "            for box in self.boxes:\n",
    "                boxString += str(box.rowPos) + str(box.colPos)\n",
    "        return hash((str(self.currentRowPos), str(self.currentColPos), goalString, boxString))\n",
    "        \n",
    "    def getCurrentNode(self, maze):\n",
    "        return maze.colsList[self.currentRowPos][self.currentColPos]"
   ]
  },
  {
   "cell_type": "markdown",
   "metadata": {},
   "source": [
    "## Transition Model"
   ]
  },
  {
   "cell_type": "code",
   "execution_count": 52,
   "metadata": {
    "collapsed": true
   },
   "outputs": [],
   "source": [
    "def hash_goals(goals):\n",
    "    hash_string = \"\"\n",
    "    for goal in goals:\n",
    "        hash_string += str(goal.rowPos) + \",\" + str(goal.colPos)\n",
    "    return hash_string"
   ]
  },
  {
   "cell_type": "code",
   "execution_count": 260,
   "metadata": {
    "collapsed": true,
    "scrolled": false
   },
   "outputs": [],
   "source": [
    "def move(state, maze):    \n",
    "    # Check if state is goal\n",
    "    if state.getCurrentNode(maze) in state.goals:\n",
    "        tempGoals = state.goals[:]\n",
    "        tempGoals.remove(state.getCurrentNode(maze))\n",
    "        newState = State(state.getCurrentNode(maze), tempGoals[:], state.boxes[:])\n",
    "        newState.previous = state\n",
    "        newState.cost = state.cost\n",
    "        distance = sys.maxsize\n",
    "        distance_remaining = furthestDistance(newState)       \n",
    "        newState.distance = distance_remaining + newState.cost\n",
    "        maze.explored[hash(newState)] = newState   \n",
    "        addToFrontier(newState, maze)\n",
    "        return newState\n",
    "    elif hash(state) in maze.explored:\n",
    "        return state\n",
    "    else:   \n",
    "        addToFrontier(state, maze)\n",
    "        maze.explored[hash(state)] = state   \n",
    "        return state\n",
    "    \n",
    "def sokobanMove(state, maze):\n",
    "    if hash(state) in maze.explored:\n",
    "        return state\n",
    "    else:\n",
    "        addToFrontierSokoban(state, maze)\n",
    "        maze.explored[hash(state)] = state\n",
    "        return state"
   ]
  },
  {
   "cell_type": "code",
   "execution_count": 228,
   "metadata": {
    "collapsed": true,
    "scrolled": false
   },
   "outputs": [],
   "source": [
    "from IPython.display import clear_output\n",
    "import sys\n",
    "def addToFrontier(state, maze): \n",
    "    maze.nodesExpanded += 1\n",
    "    #print(maze.nodesExpanded)           \n",
    "    \n",
    "    # Top Node\n",
    "    if state.currentRowPos > 1 and not maze.colsList[state.currentRowPos - 1][state.currentColPos].isWall:  \n",
    "        newState = State(maze.colsList[state.currentRowPos - 1][state.currentColPos], state.goals[:], state.boxes[:])\n",
    "        newState.cost = state.cost + 1\n",
    "        newState.previous = state\n",
    "        distance_remaining = furthestDistance(newState)\n",
    "                \n",
    "        newState.distance = distance_remaining + newState.cost\n",
    "        maze.frontier.append(newState)\n",
    "        \n",
    "    # Bottom Node\n",
    "    if state.currentRowPos < maze.rowsInMaze - 1 and not maze.colsList[state.currentRowPos + 1][state.currentColPos].isWall:\n",
    "        newState = State(maze.colsList[state.currentRowPos + 1][state.currentColPos], state.goals[:], state.boxes[:])\n",
    "        newState.cost = state.cost + 1\n",
    "        newState.previous = state\n",
    "        distance_remaining = furthestDistance(newState)\n",
    "                \n",
    "        newState.distance = distance_remaining + newState.cost\n",
    "        maze.frontier.append(newState)\n",
    "        \n",
    "        \n",
    "    # Left Node\n",
    "    if state.currentRowPos > 1 and not maze.colsList[state.currentRowPos][state.currentColPos - 1].isWall:\n",
    "        newState = State(maze.colsList[state.currentRowPos][state.currentColPos - 1], state.goals[:], state.boxes[:])\n",
    "        newState.cost = state.cost + 1\n",
    "        newState.previous = state\n",
    "        distance_remaining = furthestDistance(newState)\n",
    "                \n",
    "        newState.distance = distance_remaining + newState.cost\n",
    "        maze.frontier.append(newState)\n",
    "        \n",
    "    # Right Node\n",
    "    if state.currentColPos < maze.colsInMaze - 1 and not maze.colsList[state.currentRowPos][state.currentColPos + 1].isWall:\n",
    "        newState = State(maze.colsList[state.currentRowPos][state.currentColPos + 1], state.goals[:], state.boxes[:])\n",
    "        newState.cost = state.cost + 1\n",
    "        newState.previous = state\n",
    "        distance_remaining = furthestDistance(newState)\n",
    "                \n",
    "        newState.distance = distance_remaining + newState.cost\n",
    "        maze.frontier.append(newState)\n",
    "        \n",
    "    #printedFrontier = []\n",
    "    #for state in maze.frontier:\n",
    "        #printedFrontier.append(str(len(state.goals)))\n",
    "    #print(printedFrontier)\n",
    "    #maze.printMaze()\n",
    "    ##input(\"Press enter to continue\")"
   ]
  },
  {
   "cell_type": "code",
   "execution_count": 281,
   "metadata": {},
   "outputs": [],
   "source": [
    "from IPython.display import clear_output\n",
    "import sys\n",
    "def addToFrontierSokoban(state, maze): \n",
    "    maze.nodesExpanded += 1\n",
    "    #print(maze.nodesExpanded)           \n",
    "    \n",
    "    # Top Node\n",
    "    currentBox = None\n",
    "    nextBox = None\n",
    "    if not maze.colsList[state.currentRowPos - 1][state.currentColPos].isWall:  \n",
    "        for box in state.boxes:\n",
    "            if box.rowPos == state.currentRowPos - 1 and box.colPos == state.currentColPos:\n",
    "                currentBox = box\n",
    "        for box in state.boxes:\n",
    "            if box.rowPos == state.currentRowPos - 2 and box.colPos == state.currentColPos:\n",
    "                nextBox = box\n",
    "        if currentBox != None:\n",
    "            if nextBox == None:\n",
    "                currentBox.rowPos -= 1\n",
    "                newState = State(maze.colsList[state.currentRowPos - 1][state.currentColPos], state.goals[:], state.boxes[:])\n",
    "                newState.cost = state.cost + 1\n",
    "                newState.previous = state\n",
    "                distance_remaining = furthestDistance(newState)\n",
    "                \n",
    "                newState.distance = distance_remaining + newState.cost\n",
    "                #print(str(newState.currentRowPos) + \",\" + str(newState.currentColPos))\n",
    "                maze.frontier.append(newState)\n",
    "            else:\n",
    "                pass\n",
    "        else:  \n",
    "            newState = State(maze.colsList[state.currentRowPos - 1][state.currentColPos], state.goals[:], state.boxes[:])\n",
    "            newState.cost = state.cost + 1\n",
    "            newState.previous = state\n",
    "            distance_remaining = furthestDistance(newState)\n",
    "\n",
    "            newState.distance = distance_remaining + newState.cost\n",
    "            maze.frontier.append(newState)\n",
    "     \n",
    "    # Bottom Node\n",
    "    currentBox = None\n",
    "    nextBox = None\n",
    "    if not maze.colsList[state.currentRowPos + 1][state.currentColPos].isWall:  \n",
    "        for box in state.boxes:\n",
    "            if box.rowPos == state.currentRowPos + 1 and box.colPos == state.currentColPos:\n",
    "                currentBox = box\n",
    "        for box in state.boxes:\n",
    "            if box.rowPos == state.currentRowPos + 2 and box.colPos == state.currentColPos:\n",
    "                nextBox = box\n",
    "        if currentBox != None:\n",
    "            if nextBox == None:\n",
    "                currentBox.rowPos += 1\n",
    "                newState = State(maze.colsList[state.currentRowPos + 1][state.currentColPos], state.goals[:], state.boxes[:])\n",
    "                newState.cost = state.cost + 1\n",
    "                newState.previous = state\n",
    "                distance_remaining = furthestDistance(newState)\n",
    "                \n",
    "                newState.distance = distance_remaining + newState.cost\n",
    "                #print(str(newState.currentRowPos) + \",\" + str(newState.currentColPos))\n",
    "                maze.frontier.append(newState)\n",
    "            else:\n",
    "                pass\n",
    "        else:  \n",
    "            newState = State(maze.colsList[state.currentRowPos + 1][state.currentColPos], state.goals[:], state.boxes[:])\n",
    "            newState.cost = state.cost + 1\n",
    "            newState.previous = state\n",
    "            distance_remaining = furthestDistance(newState)\n",
    "\n",
    "            newState.distance = distance_remaining + newState.cost\n",
    "            maze.frontier.append(newState)        \n",
    "      \n",
    "    # Left Node\n",
    "    currentBox = None\n",
    "    nextBox = None\n",
    "    if not maze.colsList[state.currentRowPos][state.currentColPos - 1].isWall:  \n",
    "        for box in state.boxes:\n",
    "            if box.rowPos == state.currentRowPos and box.colPos - 1 == state.currentColPos:\n",
    "                currentBox = box\n",
    "        for box in state.boxes:\n",
    "            if box.rowPos == state.currentRowPos and box.colPos - 2 == state.currentColPos:\n",
    "                nextBox = box\n",
    "        if currentBox != None:\n",
    "            if nextBox == None:\n",
    "                currentBox.colPos -= 1\n",
    "                newState = State(maze.colsList[state.currentRowPos][state.currentColPos - 1], state.goals[:], state.boxes[:])\n",
    "                newState.cost = state.cost + 1\n",
    "                newState.previous = state\n",
    "                distance_remaining = furthestDistance(newState)\n",
    "                \n",
    "                newState.distance = distance_remaining + newState.cost\n",
    "                #print(str(newState.currentRowPos) + \",\" + str(newState.currentColPos))\n",
    "                maze.frontier.append(newState)\n",
    "            else:\n",
    "                pass\n",
    "        else:  \n",
    "            newState = State(maze.colsList[state.currentRowPos][state.currentColPos - 1], state.goals[:], state.boxes[:])\n",
    "            newState.cost = state.cost + 1\n",
    "            newState.previous = state\n",
    "            distance_remaining = furthestDistance(newState)\n",
    "\n",
    "            newState.distance = distance_remaining + newState.cost\n",
    "            maze.frontier.append(newState) \n",
    "    \n",
    "    # Right Node\n",
    "    currentBox = None\n",
    "    nextBox = None\n",
    "    if not maze.colsList[state.currentRowPos][state.currentColPos + 1].isWall:  \n",
    "        for box in state.boxes:\n",
    "            if box.rowPos == state.currentRowPos and box.colPos + 1 == state.currentColPos:\n",
    "                currentBox = box\n",
    "        for box in state.boxes:\n",
    "            if box.rowPos == state.currentRowPos and box.colPos + 2 == state.currentColPos:\n",
    "                nextBox = box\n",
    "        if currentBox != None:\n",
    "            if nextBox == None:\n",
    "                currentBox.colPos += 1\n",
    "                newState = State(maze.colsList[state.currentRowPos][state.currentColPos + 1], state.goals[:], state.boxes[:])\n",
    "                newState.cost = state.cost + 1\n",
    "                newState.previous = state\n",
    "                distance_remaining = furthestDistance(newState)\n",
    "                \n",
    "                newState.distance = distance_remaining + newState.cost\n",
    "                #print(str(newState.currentRowPos) + \",\" + str(newState.currentColPos))\n",
    "                maze.frontier.append(newState)\n",
    "            else:\n",
    "                pass\n",
    "        else:  \n",
    "            newState = State(maze.colsList[state.currentRowPos][state.currentColPos + 1], state.goals[:], state.boxes[:])\n",
    "            newState.cost = state.cost + 1\n",
    "            newState.previous = state\n",
    "            distance_remaining = furthestDistance(newState)\n",
    "\n",
    "            newState.distance = distance_remaining + newState.cost\n",
    "            maze.frontier.append(newState) \n",
    "        \n",
    "    printedFrontier = []\n",
    "    for state in maze.frontier:\n",
    "        printedFrontier.append(str(newState.currentRowPos) + \",\" + str(newState.currentColPos))\n",
    "    print(printedFrontier)\n",
    "    maze.printMaze()\n",
    "    input(\"Press enter to continue\")"
   ]
  },
  {
   "cell_type": "markdown",
   "metadata": {},
   "source": [
    "## Goal Test"
   ]
  },
  {
   "cell_type": "code",
   "execution_count": 55,
   "metadata": {
    "collapsed": true,
    "scrolled": false
   },
   "outputs": [],
   "source": [
    "def goalTest(goals):      \n",
    "    if goals == []:\n",
    "        return True\n",
    "    else:\n",
    "        return False\n",
    "\n",
    "def sokobanGoalTest(goals):\n",
    "    count = 0\n",
    "    for goal in goals:\n",
    "        if goal.value == 'B':\n",
    "            count += 1\n",
    "    if count == len(goals):\n",
    "        return True\n",
    "    else:\n",
    "        return False"
   ]
  },
  {
   "cell_type": "code",
   "execution_count": 56,
   "metadata": {
    "collapsed": true,
    "scrolled": false
   },
   "outputs": [],
   "source": [
    "def incrementGoalCounter(counter):\n",
    "    if counter == 'a':\n",
    "        return '9'\n",
    "    else:\n",
    "        return chr(ord(counter) - 1)"
   ]
  },
  {
   "cell_type": "markdown",
   "metadata": {},
   "source": [
    "## Tests"
   ]
  },
  {
   "cell_type": "markdown",
   "metadata": {},
   "source": [
    "#### Medium Maze"
   ]
  },
  {
   "cell_type": "markdown",
   "metadata": {},
   "source": [
    "##### Depth-first Search"
   ]
  },
  {
   "cell_type": "code",
   "execution_count": 229,
   "metadata": {
    "collapsed": true,
    "scrolled": false
   },
   "outputs": [],
   "source": [
    "filename = \"inputs/mediumMaze.txt\"\n",
    "mediumMaze = Maze(filename)"
   ]
  },
  {
   "cell_type": "code",
   "execution_count": 230,
   "metadata": {},
   "outputs": [
    {
     "name": "stdout",
     "output_type": "stream",
     "text": [
      "0.003000497817993164\n",
      "Nodes Expanded: 167\n",
      "Nodes in Path: 117\n",
      "%%%%%%%%%%%%%%%%%%%%%%%%%%%%%%%%%%%%%%%%%%%%%%%%%%%%%%%%%%%%%\n",
      "%         % %           %     %           %           %  ..1%\n",
      "% %%%% %% % % %%%%% %%%%% %%% % %%%% %% %%% %% %% %%% % %.% %\n",
      "% %     %   %     %       %   %       %     %   % % %   %.% %\n",
      "% % %%% % %%%% %% %%%%%%%%% %%%%% %%% % %%% % % % % %%%%%.% %\n",
      "% %   %   %       %       %       %   %   % % % %     %...% %\n",
      "% % %%% %%% %%% %%% % %%% %%%% %% % %%% % %%% % %%% %%%.%%% %\n",
      "%   %     %     %   % %         % % %   %     %   % %...% % %\n",
      "% %%% %%% %%%%% %%%%% % %%% %%% %%%%% %%%%%% %%%% %%%.%%% % %\n",
      "%     %       %         % % %         %...%     %  ...%   % %\n",
      "% %%%%% %%%%% %%%%% %%% % % % %%%%%%%%%.%.% %%% %%%.%%% %%% %\n",
      "% %   % %   %         % %   % %     %  .%.% %.......    %   %\n",
      "% % %%% % %%% %%%%% % % %%%%% % % %%% %.%.%%%.%%%%% %%%%% %%%\n",
      "%   %   % %       % % %   %   % %   % %.%.....%     %   % % %\n",
      "% %%% %%% % % %%% %%% %%% % %%% %%% % %.%%%%%%%%% %%% % % % %\n",
      "% %   %   % %...%   % %   % %     %   %...%     % %   %   % %\n",
      "%...%%% % % %.%.% % % % %%% % %%%%%%% %%%.% %%% % % %%%%%%% %\n",
      "%.%...% %   %.%...%   % %    .............% %   % % %       %\n",
      "%.%%%.%%% %%%.%%%.% %%% % %%%.% %%%%%% %%%% % %%%%% % % %%% %\n",
      "%...%.........%...% %   % %...%         %   % %     % % %   %\n",
      "%%%.%%% % %%%%%.%%%%% %%%%%.%%% %%%%%%% % %%% % %%%%%%% % %%%\n",
      "%P..  %       %.............%         %     %           %   %\n",
      "%%%%%%%%%%%%%%%%%%%%%%%%%%%%%%%%%%%%%%%%%%%%%%%%%%%%%%%%%%%%\n"
     ]
    }
   ],
   "source": [
    "mediumMaze.runSearch('dfs')"
   ]
  },
  {
   "cell_type": "markdown",
   "metadata": {},
   "source": [
    "##### Breadth-first Search"
   ]
  },
  {
   "cell_type": "code",
   "execution_count": 231,
   "metadata": {
    "collapsed": true,
    "scrolled": false
   },
   "outputs": [],
   "source": [
    "filename = \"inputs/mediumMaze.txt\"\n",
    "mediumMaze = Maze(filename)"
   ]
  },
  {
   "cell_type": "code",
   "execution_count": 232,
   "metadata": {
    "scrolled": false
   },
   "outputs": [
    {
     "name": "stdout",
     "output_type": "stream",
     "text": [
      "0.011000633239746094\n",
      "Nodes Expanded: 609\n",
      "Nodes in Path: 95\n",
      "%%%%%%%%%%%%%%%%%%%%%%%%%%%%%%%%%%%%%%%%%%%%%%%%%%%%%%%%%%%%%\n",
      "%         % %           %     %     ....  %...........%....1%\n",
      "% %%%% %% % % %%%%% %%%%% %%% % %%%%.%%.%%%.%% %% %%%.%.% % %\n",
      "% %     %   %     %       %   %  .... %.....%   % % %...% % %\n",
      "% % %%% % %%%% %% %%%%%%%%% %%%%%.%%% % %%% % % % % %%%%% % %\n",
      "% %   %   %       %       %   ....%   %   % % % %     %   % %\n",
      "% % %%% %%% %%% %%% % %%% %%%%.%% % %%% % %%% % %%% %%% %%% %\n",
      "%   %     %     %   % %........ % % %   %     %   % %   % % %\n",
      "% %%% %%% %%%%% %%%%% %.%%% %%% %%%%% %%%%%% %%%% %%% %%% % %\n",
      "%     %.......%    .....% % %         %   %     %     %   % %\n",
      "% %%%%%.%%%%%.%%%%%.%%% % % % %%%%%%%%% % % %%% %%% %%% %%% %\n",
      "% %   %.%   %.......  % %   % %     %   % % %           %   %\n",
      "% % %%%.% %%% %%%%% % % %%%%% % % %%% % % %%% %%%%% %%%%% %%%\n",
      "%   %...% %       % % %   %   % %   % % %     %     %   % % %\n",
      "% %%%.%%% % % %%% %%% %%% % %%% %%% % % %%%%%%%%% %%% % % % %\n",
      "% %...%   % %   %   % %   % %     %   %   %     % %   %   % %\n",
      "%...%%% % % % % % % % % %%% % %%%%%%% %%% % %%% % % %%%%%%% %\n",
      "%.%   % %   % %   %   % %                 % %   % % %       %\n",
      "%.%%% %%% %%% %%% % %%% % %%% % %%%%%% %%%% % %%%%% % % %%% %\n",
      "%...%         %   % %   % %   %         %   % %     % % %   %\n",
      "%%%.%%% % %%%%% %%%%% %%%%% %%% %%%%%%% % %%% % %%%%%%% % %%%\n",
      "%P..  %       %             %         %     %           %   %\n",
      "%%%%%%%%%%%%%%%%%%%%%%%%%%%%%%%%%%%%%%%%%%%%%%%%%%%%%%%%%%%%\n"
     ]
    }
   ],
   "source": [
    "mediumMaze.runSearch('bfs')"
   ]
  },
  {
   "cell_type": "markdown",
   "metadata": {},
   "source": [
    "##### Greedy Best-first Search"
   ]
  },
  {
   "cell_type": "code",
   "execution_count": 233,
   "metadata": {
    "collapsed": true,
    "scrolled": false
   },
   "outputs": [],
   "source": [
    "filename = \"inputs/mediumMaze.txt\"\n",
    "mediumMaze = Maze(filename)"
   ]
  },
  {
   "cell_type": "code",
   "execution_count": 234,
   "metadata": {
    "scrolled": false
   },
   "outputs": [
    {
     "name": "stdout",
     "output_type": "stream",
     "text": [
      "0.007000446319580078\n",
      "Nodes Expanded: 104\n",
      "Nodes in Path: 95\n",
      "%%%%%%%%%%%%%%%%%%%%%%%%%%%%%%%%%%%%%%%%%%%%%%%%%%%%%%%%%%%%%\n",
      "%         % %           %     %     ....  %...........%....1%\n",
      "% %%%% %% % % %%%%% %%%%% %%% % %%%%.%%.%%%.%% %% %%%.%.% % %\n",
      "% %     %   %     %       %   %  .... %.....%   % % %...% % %\n",
      "% % %%% % %%%% %% %%%%%%%%% %%%%%.%%% % %%% % % % % %%%%% % %\n",
      "% %   %   %       %       %   ....%   %   % % % %     %   % %\n",
      "% % %%% %%% %%% %%% % %%% %%%%.%% % %%% % %%% % %%% %%% %%% %\n",
      "%   %     %     %   % %........ % % %   %     %   % %   % % %\n",
      "% %%% %%% %%%%% %%%%% %.%%% %%% %%%%% %%%%%% %%%% %%% %%% % %\n",
      "%     %.......%    .....% % %         %   %     %     %   % %\n",
      "% %%%%%.%%%%%.%%%%%.%%% % % % %%%%%%%%% % % %%% %%% %%% %%% %\n",
      "% %   %.%   %.......  % %   % %     %   % % %           %   %\n",
      "% % %%%.% %%% %%%%% % % %%%%% % % %%% % % %%% %%%%% %%%%% %%%\n",
      "%   %...% %       % % %   %   % %   % % %     %     %   % % %\n",
      "% %%%.%%% % % %%% %%% %%% % %%% %%% % % %%%%%%%%% %%% % % % %\n",
      "% %...%   % %   %   % %   % %     %   %   %     % %   %   % %\n",
      "%...%%% % % % % % % % % %%% % %%%%%%% %%% % %%% % % %%%%%%% %\n",
      "%.%   % %   % %   %   % %                 % %   % % %       %\n",
      "%.%%% %%% %%% %%% % %%% % %%% % %%%%%% %%%% % %%%%% % % %%% %\n",
      "%...%         %   % %   % %   %         %   % %     % % %   %\n",
      "%%%.%%% % %%%%% %%%%% %%%%% %%% %%%%%%% % %%% % %%%%%%% % %%%\n",
      "%P..  %       %             %         %     %           %   %\n",
      "%%%%%%%%%%%%%%%%%%%%%%%%%%%%%%%%%%%%%%%%%%%%%%%%%%%%%%%%%%%%\n"
     ]
    }
   ],
   "source": [
    "mediumMaze.runSearch('gbfs')"
   ]
  },
  {
   "cell_type": "markdown",
   "metadata": {},
   "source": [
    "##### A* Search"
   ]
  },
  {
   "cell_type": "code",
   "execution_count": 235,
   "metadata": {
    "collapsed": true,
    "scrolled": false
   },
   "outputs": [],
   "source": [
    "filename = \"inputs/mediumMaze.txt\"\n",
    "mediumMaze = Maze(filename)"
   ]
  },
  {
   "cell_type": "code",
   "execution_count": 236,
   "metadata": {
    "scrolled": false
   },
   "outputs": [
    {
     "name": "stdout",
     "output_type": "stream",
     "text": [
      "0.02200150489807129\n",
      "Nodes Expanded: 332\n",
      "Nodes in Path: 95\n",
      "%%%%%%%%%%%%%%%%%%%%%%%%%%%%%%%%%%%%%%%%%%%%%%%%%%%%%%%%%%%%%\n",
      "%         % %           %     %           %...........%....1%\n",
      "% %%%% %% % % %%%%% %%%%% %%% % %%%% %% %%%.%% %% %%%.%.% % %\n",
      "% %     %   %     %       %   %       %.....%   % % %...% % %\n",
      "% % %%% % %%%% %% %%%%%%%%% %%%%% %%% %.%%% % % % % %%%%% % %\n",
      "% %   %   %       %       %       %   %.  % % % %     %   % %\n",
      "% % %%% %%% %%% %%% % %%% %%%% %% % %%%.% %%% % %%% %%% %%% %\n",
      "%   %     %     %   % %.........% % %...%     %   % %   % % %\n",
      "% %%% %%% %%%%% %%%%% %.%%% %%%.%%%%%.%%%%%% %%%% %%% %%% % %\n",
      "%     %.......%    .....% % %  .......%   %     %     %   % %\n",
      "% %%%%%.%%%%%.%%%%%.%%% % % % %%%%%%%%% % % %%% %%% %%% %%% %\n",
      "% %   %.%   %.......  % %   % %     %   % % %           %   %\n",
      "% % %%%.% %%% %%%%% % % %%%%% % % %%% % % %%% %%%%% %%%%% %%%\n",
      "%   %...% %       % % %   %   % %   % % %     %     %   % % %\n",
      "% %%%.%%% % % %%% %%% %%% % %%% %%% % % %%%%%%%%% %%% % % % %\n",
      "% %...%   % %   %   % %   % %     %   %   %     % %   %   % %\n",
      "%...%%% % % % % % % % % %%% % %%%%%%% %%% % %%% % % %%%%%%% %\n",
      "%.%   % %   % %   %   % %                 % %   % % %       %\n",
      "%.%%% %%% %%% %%% % %%% % %%% % %%%%%% %%%% % %%%%% % % %%% %\n",
      "%...%         %   % %   % %   %         %   % %     % % %   %\n",
      "%%%.%%% % %%%%% %%%%% %%%%% %%% %%%%%%% % %%% % %%%%%%% % %%%\n",
      "%P..  %       %             %         %     %           %   %\n",
      "%%%%%%%%%%%%%%%%%%%%%%%%%%%%%%%%%%%%%%%%%%%%%%%%%%%%%%%%%%%%\n"
     ]
    }
   ],
   "source": [
    "mediumMaze.runSearch('astar')"
   ]
  },
  {
   "cell_type": "markdown",
   "metadata": {},
   "source": [
    "#### Big Maze"
   ]
  },
  {
   "cell_type": "markdown",
   "metadata": {},
   "source": [
    "##### Depth-first Search"
   ]
  },
  {
   "cell_type": "code",
   "execution_count": 237,
   "metadata": {
    "collapsed": true,
    "scrolled": false
   },
   "outputs": [],
   "source": [
    "filename = \"inputs/bigMaze.txt\"\n",
    "bigMaze = Maze(filename)"
   ]
  },
  {
   "cell_type": "code",
   "execution_count": 238,
   "metadata": {
    "scrolled": true
   },
   "outputs": [
    {
     "name": "stdout",
     "output_type": "stream",
     "text": [
      "0.011000871658325195\n",
      "Nodes Expanded: 302\n",
      "Nodes in Path: 241\n",
      "%%%%%%%%%%%%%%%%%%%%%%%%%%%%%%%%%%%%%%%%%%%%%%%%%%%%%%%%%%%%%%%%%%%%%%%%%%%%%%%%%\n",
      "%P....  %.......%...% %     %   %   %   %    .........% %   %.........%.....%   %\n",
      "%   %.%%%.% %%%.%.%.% % % %%% % % % % %%% %%%.%% %%%%.% % % %.% %%%%%.%.%%%.%%% %\n",
      "%   %.....% % %...%.%   %   % % % % % %   % %.%     %.%   %  .%     %...% %...  %\n",
      "%%% %%%% %% % %  %%.%% %% % %%% % % % % %%% %.%%%%% %.% %%%%%.%...% % %%% % %.% %\n",
      "%   % %     %     %.....% %   %   % % %     %.....% %.%     %...%.......%   %.% %\n",
      "%   % % % %   % % %.....% % % %%% % % %%%%% %%%%%.% %.%%%%% % % % %%% %.%%% %.%%%\n",
      "% %   % % %   % % %.... %   %     % % ......%.....% %.....%...% %     %...%  ...%\n",
      "% %%% % %%% % %%% % %..%% %%% %%% % %%.%%%%.%.%%%%% %.....%.%...%% %% %%%.% %%%.%\n",
      "% %       % % %   % %...% %.....% % ... %  ...%      ...  %.%  .....% %...% %...%\n",
      "% % %%%%% % % % %%% % %.%%%.%%%.% %%....% %%%%% %%% %%%.%%%.% %%%%%.%%%.%%% %.% %\n",
      "%   %   %   % %     % %.....%  .........% %   % % %   %.....%     %.....%   %.% %\n",
      "% % %%% %%%%% % % %%% % % %%% %%%%%%% %%% % %%% % %%% % %% %%%%        %% %%%.% %\n",
      "% %         % % %   % %   % % %       %   %       % %   %         %     %   %.% %\n",
      "% % %%% %%%%% % %%% % %%%%% % % %%%%%%%%% %% %%%% % %%%%% %% %%%%%%% %% %%% %.%%%\n",
      "%   %   %     %   %   %       %         %       %   %   % %   %           % %...%\n",
      "%%% % %%% %%%%% %%%%%%% %%% %    %% %%% %%%%% % %%% % %       % % %%%% %%%% %%%.%\n",
      "%       % %           % %   %         %         % %   %   % % % %   %     % %...%\n",
      "% %%%%%%% % %%%%% %%% % %%% % %%%%%%% %%%%%%%%%%% %%% %%% % % % %%% % %%% % %.%%%\n",
      "%         %     %   % %   % %   %   %   %   %     %     %   %   % %     % % %...%\n",
      "%%%%% % %%%%%   %%% % %%% % %%% %%%     % % %%% % % %%% % %%%%%%% %%% %%% % % %.%\n",
      "%     %   %   %   % % %   %   %           %     %   %   %         %   %   % % %.%\n",
      "% %%%%%%% % % % % % % % %%% % %%%%% % %%%%%%% %%%%%%% %%%%%%% %%% %%% % %%% % %.%\n",
      "%       % % %   % % % % %   %     % %       % %   %   %   %     %   % %   % % %.%\n",
      "%%% %% %% % %%%%% % %%% % % %  %% % %%%% %% %%% % %%%%% % % % % %%% % %%% % %%%.%\n",
      "%         %   %   %   % % % %   % %       %     %       % % % %   % %   % %    .%\n",
      "% %%%%    %%% % %%% % % %%% %%% % % %%% % % % %%% % %%%%% % %     % % % % %%%%%.%\n",
      "%   %     %   % %   %       %   %   %   % % %   % % %     % %     % % % %     %.%\n",
      "% % %%% %%% %%% %% %%%%%%%%%% %%%%%%% %%% % %%% % % %%% % % % %%%%% %%% %%%%% %.%\n",
      "% %           %                       %   %     %       %   %               %  1%\n",
      "%%%%%%%%%%%%%%%%%%%%%%%%%%%%%%%%%%%%%%%%%%%%%%%%%%%%%%%%%%%%%%%%%%%%%%%%%%%%%%%%\n"
     ]
    }
   ],
   "source": [
    "bigMaze.runSearch('dfs')"
   ]
  },
  {
   "cell_type": "markdown",
   "metadata": {},
   "source": [
    "##### Breadth-first Search"
   ]
  },
  {
   "cell_type": "code",
   "execution_count": 239,
   "metadata": {
    "collapsed": true,
    "scrolled": false
   },
   "outputs": [],
   "source": [
    "filename = \"inputs/bigMaze.txt\"\n",
    "bigMaze = Maze(filename)"
   ]
  },
  {
   "cell_type": "code",
   "execution_count": 240,
   "metadata": {
    "scrolled": false
   },
   "outputs": [
    {
     "name": "stdout",
     "output_type": "stream",
     "text": [
      "0.02300119400024414\n",
      "Nodes Expanded: 1250\n",
      "Nodes in Path: 149\n",
      "%%%%%%%%%%%%%%%%%%%%%%%%%%%%%%%%%%%%%%%%%%%%%%%%%%%%%%%%%%%%%%%%%%%%%%%%%%%%%%%%%\n",
      "%P....  %.......%...% %     %   %   %   %             % %   %         %     %   %\n",
      "%   %.%%%.% %%%.%.%.% % % %%% % % % % %%% %%% %% %%%% % % % % % %%%%% % %%% %%% %\n",
      "%   %.....% % %...%.%   %   % % % % % %   % % %     % %   %   %     %   % %     %\n",
      "%%% %%%% %% % %  %%.%% %% % %%% % % % % %%% % %%%%% % % %%%%% %   % % %%% % % % %\n",
      "%   % %     %     %.    % %   %   % % %     %     % % %     %   %       %   % % %\n",
      "%   % % % %   % % %.    % % % %%% % % %%%%% %%%%% % % %%%%% % % % %%% % %%% % %%%\n",
      "% %   % % %   % % %...  %   %     % %       %     % %     %   % %     %   %     %\n",
      "% %%% % %%% % %%% % %. %% %%% %%% % %% %%%% % %%%%% %     % %   %% %% %%% % %%% %\n",
      "% %       % % %   % %...% %.....% %     %     %.........  % %       % %   % %   %\n",
      "% % %%%%% % % % %%% % %.%%%.%%%.% %%    % %%%%%.%%% %%%.%%% % %%%%% %%% %%% % % %\n",
      "%   %   %   % %     % %.....%...        % %   %.% %   %.... %     %     %   % % %\n",
      "% % %%% %%%%% % % %%% % % %%%.%%%%%%% %%% % %%%.% %%% % %%.%%%%.....   %% %%% % %\n",
      "% %         % % %   % %   % %.%       %   % ....  % %   % ......  %..   %   % % %\n",
      "% % %%% %%%%% % %%% % %%%%% %.% %%%%%%%%% %%.%%%% % %%%%% %% %%%%%%%.%% %%% % %%%\n",
      "%   %   %     %   %   %      .%.........%   ..  %   %   % %   %     ...   % %   %\n",
      "%%% % %%% %%%%% %%%%%%% %%% %... %% %%%.%%%%%.% %%% % %       % % %%%%.%%%% %%% %\n",
      "%       % %           % %   %         %.......  % %   %   % % % %   % ....% %   %\n",
      "% %%%%%%% % %%%%% %%% % %%% % %%%%%%% %%%%%%%%%%% %%% %%% % % % %%% % %%%.% % %%%\n",
      "%         %     %   % %   % %   %   %   %   %     %     %   %   % %     %.% %   %\n",
      "%%%%% % %%%%%   %%% % %%% % %%% %%%     % % %%% % % %%% % %%%%%%% %%% %%%.% % % %\n",
      "%     %   %   %   % % %   %   %           %     %   %   %         %   %...% % % %\n",
      "% %%%%%%% % % % % % % % %%% % %%%%% % %%%%%%% %%%%%%% %%%%%%% %%% %%% %.%%% % % %\n",
      "%       % % %   % % % % %   %     % %       % %   %   %   %     %   % %...% % % %\n",
      "%%% %% %% % %%%%% % %%% % % %  %% % %%%% %% %%% % %%%%% % % % % %%% % %%%.% %%% %\n",
      "%         %   %   %   % % % %   % %       %     %       % % % %   % %   %.%     %\n",
      "% %%%%    %%% % %%% % % %%% %%% % % %%% % % % %%% % %%%%% % %     % % % %.%%%%% %\n",
      "%   %     %   % %   %       %   %   %   % % %   % % %     % %     % % % %.....% %\n",
      "% % %%% %%% %%% %% %%%%%%%%%% %%%%%%% %%% % %%% % % %%% % % % %%%%% %%% %%%%%.% %\n",
      "% %           %                       %   %     %       %   %               %..1%\n",
      "%%%%%%%%%%%%%%%%%%%%%%%%%%%%%%%%%%%%%%%%%%%%%%%%%%%%%%%%%%%%%%%%%%%%%%%%%%%%%%%%\n"
     ]
    }
   ],
   "source": [
    "bigMaze.runSearch('bfs')"
   ]
  },
  {
   "cell_type": "markdown",
   "metadata": {},
   "source": [
    "##### Greedy Best-first Search"
   ]
  },
  {
   "cell_type": "code",
   "execution_count": 241,
   "metadata": {
    "collapsed": true,
    "scrolled": false
   },
   "outputs": [],
   "source": [
    "filename = \"inputs/bigMaze.txt\"\n",
    "bigMaze = Maze(filename)"
   ]
  },
  {
   "cell_type": "code",
   "execution_count": 242,
   "metadata": {
    "scrolled": false
   },
   "outputs": [
    {
     "name": "stdout",
     "output_type": "stream",
     "text": [
      "0.04300236701965332\n",
      "Nodes Expanded: 288\n",
      "Nodes in Path: 223\n",
      "%%%%%%%%%%%%%%%%%%%%%%%%%%%%%%%%%%%%%%%%%%%%%%%%%%%%%%%%%%%%%%%%%%%%%%%%%%%%%%%%%\n",
      "%P....  %       %   % %     %   %   %   %             % %   %         %     %   %\n",
      "%   %.%%% % %%% % % % % % %%% % % % % %%% %%% %% %%%% % % % % % %%%%% % %%% %%% %\n",
      "%   %.... % % %   % %   %   % % % % % %   % % %     % %   %   %     %   % %     %\n",
      "%%% %%%%.%% % %  %% %% %% % %%% % % % % %%% % %%%%% % % %%%%% %   % % %%% % % % %\n",
      "%   % % ....%     %     % %   %   % % %     %     % % %     %   %       %   % % %\n",
      "%   % % % %...% % %     % % % %%% % % %%%%% %%%%% % % %%%%% % % % %%% % %%% % %%%\n",
      "% %   % % %  .% % %     %   %     % %       %     % %     %   % %     %   %     %\n",
      "% %%% % %%% %.%%% % %  %% %%% %%% % %% %%%% % %%%%% %     % %   %% %% %%% % %%% %\n",
      "% %       % %.%   % %   % %     % %     %     %           % %       % %   % %   %\n",
      "% % %%%%% % %.% %%% % % %%% %%% % %%    % %%%%% %%% %%% %%% % %%%%% %%% %%% % % %\n",
      "%   %   %   %.%     % %     %           % %   % % %   %     %     %     %   % % %\n",
      "% % %%% %%%%%.% % %%% % % %%% %%%%%%% %%% % %%% % %%% % %% %%%%        %% %%% % %\n",
      "% %         %.% %   % %   % % %       %   %       % %   %         %     %   % % %\n",
      "% % %%% %%%%%.% %%% % %%%%% % % %%%%%%%%% %% %%%% % %%%%% %% %%%%%%% %% %%% % %%%\n",
      "%   %   %.....%   %   %       %         %       %   %   % %   %           % %   %\n",
      "%%% % %%%.%%%%% %%%%%%% %%% %    %% %%% %%%%% % %%% % %       % % %%%% %%%% %%% %\n",
      "%       %.%           % %   %         %         % %   %   % % % %   %.....% %   %\n",
      "% %%%%%%%.% %%%%% %%% % %%% % %%%%%%% %%%%%%%%%%% %%% %%% % % % %%% %.%%%.% % %%%\n",
      "%      ...%     %   % %   % %   %   %   %   %     %     %   %   % %  .  %.% %   %\n",
      "%%%%% %.%%%%%   %%% % %%% % %%% %%%     % % %%% % % %%% % %%%%%%% %%%.%%%.% % % %\n",
      "%     %...%...%...% % %   %   %           %     %   %   %         %  .%...% % % %\n",
      "% %%%%%%%.%.%.%.%.% % % %%% % %%%%% % %%%%%%% %%%%%%% %%%%%%% %%% %%%.%.%%% % % %\n",
      "%       %.%.%...%.% % % %   %     % %   ....% %...%   %...%.....%   %.%...% % % %\n",
      "%%% %% %%.%.%%%%%.% %%% % % %  %% % %%%%.%%.%%%.%.%%%%%.%.%.% %.%%% %.%%%.% %%% %\n",
      "%        .%...%...%   % % % %   % %    .. %.....%.......%.%.% %...% %...%.%     %\n",
      "% %%%%   .%%%.%.%%% % % %%% %%% % % %%%.% % % %%% % %%%%%.%.%    .% % %.%.%%%%% %\n",
      "%   %  ...%...%.%   %       %   %   %...% % %   % % %    .%.%.....% % %.%.....% %\n",
      "% % %%%.%%%.%%%.%% %%%%%%%%%% %%%%%%%.%%% % %%% % % %%% %.%.%.%%%%% %%%.%%%%%.% %\n",
      "% %    .....  %.......................%   %     %       %...%...........    %..1%\n",
      "%%%%%%%%%%%%%%%%%%%%%%%%%%%%%%%%%%%%%%%%%%%%%%%%%%%%%%%%%%%%%%%%%%%%%%%%%%%%%%%%\n"
     ]
    }
   ],
   "source": [
    "bigMaze.runSearch('gbfs')"
   ]
  },
  {
   "cell_type": "markdown",
   "metadata": {},
   "source": [
    "##### A* Search"
   ]
  },
  {
   "cell_type": "code",
   "execution_count": 243,
   "metadata": {
    "collapsed": true,
    "scrolled": false
   },
   "outputs": [],
   "source": [
    "filename = \"inputs/bigMaze.txt\"\n",
    "bigMaze = Maze(filename)"
   ]
  },
  {
   "cell_type": "code",
   "execution_count": 244,
   "metadata": {
    "scrolled": false
   },
   "outputs": [
    {
     "name": "stdout",
     "output_type": "stream",
     "text": [
      "0.12700748443603516\n",
      "Nodes Expanded: 1107\n",
      "Nodes in Path: 149\n",
      "%%%%%%%%%%%%%%%%%%%%%%%%%%%%%%%%%%%%%%%%%%%%%%%%%%%%%%%%%%%%%%%%%%%%%%%%%%%%%%%%%\n",
      "%P....  %.......%...% %     %   %   %   %             % %   %         %     %   %\n",
      "%   %.%%%.% %%%.%.%.% % % %%% % % % % %%% %%% %% %%%% % % % % % %%%%% % %%% %%% %\n",
      "%   %.....% % %...%.%   %   % % % % % %   % % %     % %   %   %     %   % %     %\n",
      "%%% %%%% %% % %  %%.%% %% % %%% % % % % %%% % %%%%% % % %%%%% %   % % %%% % % % %\n",
      "%   % %     %     %.... % %   %   % % %     %     % % %     %   %       %   % % %\n",
      "%   % % % %   % % %   . % % % %%% % % %%%%% %%%%% % % %%%%% % % % %%% % %%% % %%%\n",
      "% %   % % %   % % %   . %   %     % %       %     % %     %   % %     %   %     %\n",
      "% %%% % %%% % %%% % % .%% %%% %%% % %% %%%% % %%%%% %     % %   %% %% %%% % %%% %\n",
      "% %       % % %   % % ..% %.....% %     %     %.........  % %       % %   % %   %\n",
      "% % %%%%% % % % %%% % %.%%%.%%%.% %%    % %%%%%.%%% %%%.%%% % %%%%% %%% %%% % % %\n",
      "%   %   %   % %     % %.....%...        % %   %.% %   %.... %     %     %   % % %\n",
      "% % %%% %%%%% % % %%% % % %%%.%%%%%%% %%% % %%%.% %%% % %%.%%%%  ....  %% %%% % %\n",
      "% %         % % %   % %   % %.%       %   % ....  % %   % ........% .   %   % % %\n",
      "% % %%% %%%%% % %%% % %%%%% %.% %%%%%%%%% %%.%%%% % %%%%% %% %%%%%%%.%% %%% % %%%\n",
      "%   %   %     %   %   %      .% ........%   ..  %   %   % %   %     ...   % %   %\n",
      "%%% % %%% %%%%% %%%%%%% %%% %....%% %%%.%%%%%.% %%% % %       % % %%%%.%%%% %%% %\n",
      "%       % %           % %   %         %.......  % %   %   % % % %   % ....% %   %\n",
      "% %%%%%%% % %%%%% %%% % %%% % %%%%%%% %%%%%%%%%%% %%% %%% % % % %%% % %%%.% % %%%\n",
      "%         %     %   % %   % %   %   %   %   %     %     %   %   % %     %.% %   %\n",
      "%%%%% % %%%%%   %%% % %%% % %%% %%%     % % %%% % % %%% % %%%%%%% %%% %%%.% % % %\n",
      "%     %   %   %   % % %   %   %           %     %   %   %         %   %...% % % %\n",
      "% %%%%%%% % % % % % % % %%% % %%%%% % %%%%%%% %%%%%%% %%%%%%% %%% %%% %.%%% % % %\n",
      "%       % % %   % % % % %   %     % %       % %   %   %   %     %   % %...% % % %\n",
      "%%% %% %% % %%%%% % %%% % % %  %% % %%%% %% %%% % %%%%% % % % % %%% % %%%.% %%% %\n",
      "%         %   %   %   % % % %   % %       %     %       % % % %   % %   %.%     %\n",
      "% %%%%    %%% % %%% % % %%% %%% % % %%% % % % %%% % %%%%% % %     % % % %.%%%%% %\n",
      "%   %     %   % %   %       %   %   %   % % %   % % %     % %     % % % %.....% %\n",
      "% % %%% %%% %%% %% %%%%%%%%%% %%%%%%% %%% % %%% % % %%% % % % %%%%% %%% %%%%%.% %\n",
      "% %           %                       %   %     %       %   %               %..1%\n",
      "%%%%%%%%%%%%%%%%%%%%%%%%%%%%%%%%%%%%%%%%%%%%%%%%%%%%%%%%%%%%%%%%%%%%%%%%%%%%%%%%\n"
     ]
    }
   ],
   "source": [
    "bigMaze.runSearch('astar')"
   ]
  },
  {
   "cell_type": "markdown",
   "metadata": {},
   "source": [
    "#### Open Maze"
   ]
  },
  {
   "cell_type": "markdown",
   "metadata": {},
   "source": [
    "##### Depth-first Search"
   ]
  },
  {
   "cell_type": "code",
   "execution_count": 245,
   "metadata": {
    "collapsed": true,
    "scrolled": false
   },
   "outputs": [],
   "source": [
    "filename = \"inputs/openMaze.txt\"\n",
    "openMaze = Maze(filename)"
   ]
  },
  {
   "cell_type": "code",
   "execution_count": 246,
   "metadata": {
    "scrolled": true
   },
   "outputs": [
    {
     "name": "stdout",
     "output_type": "stream",
     "text": [
      "0.01000070571899414\n",
      "Nodes Expanded: 385\n",
      "Nodes in Path: 218\n",
      "%%%%%%%%%%%%%%%%%%%%%%%%%%%%%%%%%%%%%\n",
      "%                     %P............%\n",
      "%                     %.............%\n",
      "%                     %.............%\n",
      "%                     %.............%\n",
      "%                     %.............%\n",
      "%                     %%%%%%........%\n",
      "%                          %........%\n",
      "%                          %........%\n",
      "%                          %........%\n",
      "%..........................%........%\n",
      "%........            ......%........%\n",
      "%........%%%%%%%%%%%%...............%\n",
      "%........%                          %\n",
      "%........%                          %\n",
      "%........%                          %\n",
      "%........%                          %\n",
      "%........%                          %\n",
      "%       .1%                         %\n",
      "%%%%%%%%%%%%%%%%%%%%%%%%%%%%%%%%%%%%\n"
     ]
    }
   ],
   "source": [
    "openMaze.runSearch('dfs')"
   ]
  },
  {
   "cell_type": "markdown",
   "metadata": {},
   "source": [
    "##### Breadth-first Search"
   ]
  },
  {
   "cell_type": "code",
   "execution_count": 247,
   "metadata": {
    "collapsed": true,
    "scrolled": false
   },
   "outputs": [],
   "source": [
    "filename = \"inputs/openMaze.txt\"\n",
    "openMaze = Maze(filename)"
   ]
  },
  {
   "cell_type": "code",
   "execution_count": 248,
   "metadata": {
    "scrolled": false
   },
   "outputs": [
    {
     "name": "stdout",
     "output_type": "stream",
     "text": [
      "0.014000892639160156\n",
      "Nodes Expanded: 524\n",
      "Nodes in Path: 46\n",
      "%%%%%%%%%%%%%%%%%%%%%%%%%%%%%%%%%%%%%\n",
      "%                     %P            %\n",
      "%                     %.            %\n",
      "%                     %.            %\n",
      "%                     %.            %\n",
      "%                     %......       %\n",
      "%                     %%%%%%.       %\n",
      "%                          %.       %\n",
      "%                          %.       %\n",
      "%                          %.       %\n",
      "%                          %.       %\n",
      "%       ...................%.       %\n",
      "%       .%%%%%%%%%%%%     ...       %\n",
      "%       .%                          %\n",
      "%       .%                          %\n",
      "%       .%                          %\n",
      "%       .%                          %\n",
      "%       .%                          %\n",
      "%       .1%                         %\n",
      "%%%%%%%%%%%%%%%%%%%%%%%%%%%%%%%%%%%%\n"
     ]
    }
   ],
   "source": [
    "openMaze.runSearch('bfs')"
   ]
  },
  {
   "cell_type": "markdown",
   "metadata": {},
   "source": [
    "##### Greedy Best-first Search"
   ]
  },
  {
   "cell_type": "code",
   "execution_count": 249,
   "metadata": {
    "collapsed": true,
    "scrolled": false
   },
   "outputs": [],
   "source": [
    "filename = \"inputs/openMaze.txt\"\n",
    "openMaze = Maze(filename)"
   ]
  },
  {
   "cell_type": "code",
   "execution_count": 250,
   "metadata": {
    "scrolled": false
   },
   "outputs": [
    {
     "name": "stdout",
     "output_type": "stream",
     "text": [
      "0.023001432418823242\n",
      "Nodes Expanded: 154\n",
      "Nodes in Path: 46\n",
      "%%%%%%%%%%%%%%%%%%%%%%%%%%%%%%%%%%%%%\n",
      "%                     %P            %\n",
      "%                     %.            %\n",
      "%                     %.            %\n",
      "%                     %.            %\n",
      "%                     %......       %\n",
      "%                     %%%%%%.       %\n",
      "%                          %.       %\n",
      "%                          %.       %\n",
      "%                          %.       %\n",
      "%                          %.       %\n",
      "%       ..............     %.       %\n",
      "%       .%%%%%%%%%%%%........       %\n",
      "%       .%                          %\n",
      "%       .%                          %\n",
      "%       .%                          %\n",
      "%       .%                          %\n",
      "%       .%                          %\n",
      "%       .1%                         %\n",
      "%%%%%%%%%%%%%%%%%%%%%%%%%%%%%%%%%%%%\n"
     ]
    }
   ],
   "source": [
    "openMaze.runSearch('gbfs')"
   ]
  },
  {
   "cell_type": "markdown",
   "metadata": {},
   "source": [
    "##### A* Search"
   ]
  },
  {
   "cell_type": "code",
   "execution_count": 251,
   "metadata": {
    "collapsed": true,
    "scrolled": false
   },
   "outputs": [],
   "source": [
    "filename = \"inputs/openMaze.txt\"\n",
    "openMaze = Maze(filename)"
   ]
  },
  {
   "cell_type": "code",
   "execution_count": 252,
   "metadata": {
    "scrolled": false
   },
   "outputs": [
    {
     "name": "stdout",
     "output_type": "stream",
     "text": [
      "0.0630035400390625\n",
      "Nodes Expanded: 220\n",
      "Nodes in Path: 46\n",
      "%%%%%%%%%%%%%%%%%%%%%%%%%%%%%%%%%%%%%\n",
      "%                     %P....        %\n",
      "%                     %    .        %\n",
      "%                     %    .        %\n",
      "%                     %    .        %\n",
      "%                     %    ..       %\n",
      "%                     %%%%%%.       %\n",
      "%                          %.       %\n",
      "%                          %.       %\n",
      "%                          %.       %\n",
      "%                          %.       %\n",
      "%       ..............     %.       %\n",
      "%       .%%%%%%%%%%%%........       %\n",
      "%       .%                          %\n",
      "%       .%                          %\n",
      "%       .%                          %\n",
      "%       .%                          %\n",
      "%       .%                          %\n",
      "%       .1%                         %\n",
      "%%%%%%%%%%%%%%%%%%%%%%%%%%%%%%%%%%%%\n"
     ]
    }
   ],
   "source": [
    "openMaze.runSearch('astar')"
   ]
  },
  {
   "cell_type": "markdown",
   "metadata": {},
   "source": [
    "## Part 1.2"
   ]
  },
  {
   "cell_type": "markdown",
   "metadata": {},
   "source": [
    "#### Tiny Search"
   ]
  },
  {
   "cell_type": "markdown",
   "metadata": {},
   "source": [
    "##### Breadth-first Search"
   ]
  },
  {
   "cell_type": "code",
   "execution_count": 253,
   "metadata": {
    "collapsed": true,
    "scrolled": false
   },
   "outputs": [],
   "source": [
    "filename = \"inputs/tinySearch.txt\"\n",
    "tinySearch = Maze(filename)"
   ]
  },
  {
   "cell_type": "code",
   "execution_count": 254,
   "metadata": {
    "scrolled": false
   },
   "outputs": [
    {
     "name": "stdout",
     "output_type": "stream",
     "text": [
      "1.911109209060669\n",
      "Nodes Expanded: 43527\n",
      "Nodes in Path: 51\n",
      "%%%%%%%%%%\n",
      "%b..%.3..%\n",
      "%.%c%.%%.%\n",
      "%.% ..2%4%\n",
      "%.a%P%  .%\n",
      "%9  1 .6.%\n",
      "%.%%%%.%.%\n",
      "%8.7...%5%\n",
      "%%%%%%%%%\n"
     ]
    }
   ],
   "source": [
    "tinySearch.runSearch('bfs')"
   ]
  },
  {
   "cell_type": "markdown",
   "metadata": {},
   "source": [
    "\n",
    "##### A* Search"
   ]
  },
  {
   "cell_type": "code",
   "execution_count": 186,
   "metadata": {
    "collapsed": true,
    "scrolled": false
   },
   "outputs": [],
   "source": [
    "filename = \"inputs/tinySearch.txt\"\n",
    "tinySearch = Maze(filename)"
   ]
  },
  {
   "cell_type": "code",
   "execution_count": 187,
   "metadata": {
    "scrolled": false
   },
   "outputs": [
    {
     "name": "stdout",
     "output_type": "stream",
     "text": [
      "3.5092005729675293\n",
      "Nodes Expanded: 6616\n",
      "Nodes in Path: 51\n",
      "%%%%%%%%%%\n",
      "%b..%.3..%\n",
      "%.%c%.%%.%\n",
      "%.%  .2%4%\n",
      "%.a%P%. .%\n",
      "%9  1..6.%\n",
      "%.%%%%.%.%\n",
      "%8.7...%5%\n",
      "%%%%%%%%%\n"
     ]
    }
   ],
   "source": [
    "tinySearch.runSearch('astarv2')"
   ]
  },
  {
   "cell_type": "markdown",
   "metadata": {
    "collapsed": true
   },
   "source": [
    "#### Small Search"
   ]
  },
  {
   "cell_type": "markdown",
   "metadata": {},
   "source": [
    "##### A* Search"
   ]
  },
  {
   "cell_type": "code",
   "execution_count": 188,
   "metadata": {
    "collapsed": true,
    "scrolled": false
   },
   "outputs": [],
   "source": [
    "filename = \"inputs/smallSearch.txt\"\n",
    "smallSearch = Maze(filename)"
   ]
  },
  {
   "cell_type": "code",
   "execution_count": 189,
   "metadata": {
    "scrolled": false
   },
   "outputs": [
    {
     "ename": "KeyboardInterrupt",
     "evalue": "",
     "output_type": "error",
     "traceback": [
      "\u001b[1;31m---------------------------------------------------------------------------\u001b[0m",
      "\u001b[1;31mKeyboardInterrupt\u001b[0m                         Traceback (most recent call last)",
      "\u001b[1;32m<ipython-input-189-e1988f24ff00>\u001b[0m in \u001b[0;36m<module>\u001b[1;34m()\u001b[0m\n\u001b[1;32m----> 1\u001b[1;33m \u001b[0msmallSearch\u001b[0m\u001b[1;33m.\u001b[0m\u001b[0mrunSearch\u001b[0m\u001b[1;33m(\u001b[0m\u001b[1;34m'astarv2'\u001b[0m\u001b[1;33m)\u001b[0m\u001b[1;33m\u001b[0m\u001b[0m\n\u001b[0m",
      "\u001b[1;32m<ipython-input-185-9caaf08d2653>\u001b[0m in \u001b[0;36mrunSearch\u001b[1;34m(self, searchType)\u001b[0m\n\u001b[0;32m    154\u001b[0m                 \u001b[0mtotal_distance\u001b[0m \u001b[1;33m=\u001b[0m \u001b[0msys\u001b[0m\u001b[1;33m.\u001b[0m\u001b[0mmaxsize\u001b[0m\u001b[1;33m\u001b[0m\u001b[0m\n\u001b[0;32m    155\u001b[0m                 \u001b[1;32mfor\u001b[0m \u001b[0mi\u001b[0m \u001b[1;32min\u001b[0m \u001b[0mrange\u001b[0m\u001b[1;33m(\u001b[0m\u001b[1;36m0\u001b[0m\u001b[1;33m,\u001b[0m \u001b[0mlen\u001b[0m\u001b[1;33m(\u001b[0m\u001b[0mself\u001b[0m\u001b[1;33m.\u001b[0m\u001b[0mfrontier\u001b[0m\u001b[1;33m)\u001b[0m\u001b[1;33m)\u001b[0m\u001b[1;33m:\u001b[0m\u001b[1;33m\u001b[0m\u001b[0m\n\u001b[1;32m--> 156\u001b[1;33m                     \u001b[1;32mif\u001b[0m \u001b[0mself\u001b[0m\u001b[1;33m.\u001b[0m\u001b[0mfrontier\u001b[0m\u001b[1;33m[\u001b[0m\u001b[0mi\u001b[0m\u001b[1;33m]\u001b[0m\u001b[1;33m.\u001b[0m\u001b[0mdistance\u001b[0m \u001b[1;33m<=\u001b[0m \u001b[0mtotal_distance\u001b[0m\u001b[1;33m:\u001b[0m\u001b[1;33m\u001b[0m\u001b[0m\n\u001b[0m\u001b[0;32m    157\u001b[0m                         \u001b[0mtotal_distance\u001b[0m \u001b[1;33m=\u001b[0m \u001b[0mself\u001b[0m\u001b[1;33m.\u001b[0m\u001b[0mfrontier\u001b[0m\u001b[1;33m[\u001b[0m\u001b[0mi\u001b[0m\u001b[1;33m]\u001b[0m\u001b[1;33m.\u001b[0m\u001b[0mdistance\u001b[0m\u001b[1;33m\u001b[0m\u001b[0m\n\u001b[0;32m    158\u001b[0m                         \u001b[0mindex\u001b[0m \u001b[1;33m=\u001b[0m \u001b[0mi\u001b[0m\u001b[1;33m\u001b[0m\u001b[0m\n",
      "\u001b[1;31mKeyboardInterrupt\u001b[0m: "
     ]
    }
   ],
   "source": [
    "smallSearch.runSearch('astarv2')"
   ]
  },
  {
   "cell_type": "markdown",
   "metadata": {},
   "source": [
    "#### Medium Search"
   ]
  },
  {
   "cell_type": "markdown",
   "metadata": {},
   "source": [
    "##### A* Search"
   ]
  },
  {
   "cell_type": "code",
   "execution_count": 118,
   "metadata": {
    "collapsed": true,
    "scrolled": false
   },
   "outputs": [],
   "source": [
    "filename = \"inputs/mediumSearch.txt\"\n",
    "mediumSearch = Maze(filename)"
   ]
  },
  {
   "cell_type": "code",
   "execution_count": null,
   "metadata": {
    "collapsed": true,
    "scrolled": false
   },
   "outputs": [],
   "source": [
    "mediumSearch.runSearch('astarv2')"
   ]
  },
  {
   "cell_type": "markdown",
   "metadata": {},
   "source": [
    "# Part 2"
   ]
  },
  {
   "cell_type": "code",
   "execution_count": 282,
   "metadata": {},
   "outputs": [
    {
     "name": "stdout",
     "output_type": "stream",
     "text": [
      "%%%%%%\n",
      "%    %\n",
      "% %  %\n",
      "%Bb .%\n",
      "%P%%%%\n",
      "% %%%%\n",
      "%%%%%\n"
     ]
    }
   ],
   "source": [
    "filename = \"inputs/input1.txt\"\n",
    "input1 = Maze(filename)\n",
    "input1.printMaze()"
   ]
  },
  {
   "cell_type": "code",
   "execution_count": 283,
   "metadata": {},
   "outputs": [
    {
     "name": "stdout",
     "output_type": "stream",
     "text": [
      "['5,1', '5,1']\n",
      "%%%%%%\n",
      "%    %\n",
      "% %  %\n",
      "%Bb .%\n",
      "%P%%%%\n",
      "% %%%%\n",
      "%%%%%\n",
      "Press enter to continue\n",
      "['2,1', '2,1', '2,1']\n",
      "%%%%%%\n",
      "%    %\n",
      "% %  %\n",
      "%Bb .%\n",
      "%P%%%%\n",
      "% %%%%\n",
      "%%%%%\n",
      "Press enter to continue\n",
      "['4,1', '4,1', '4,1']\n",
      "%%%%%%\n",
      "%    %\n",
      "% %  %\n",
      "%Bb .%\n",
      "%P%%%%\n",
      "% %%%%\n",
      "%%%%%\n",
      "Press enter to continue\n",
      "['1,2', '1,2', '1,2', '1,2']\n",
      "%%%%%%\n",
      "%    %\n",
      "% %  %\n",
      "%Bb .%\n",
      "%P%%%%\n",
      "% %%%%\n",
      "%%%%%\n",
      "Press enter to continue\n",
      "['4,1', '4,1', '4,1', '4,1', '4,1']\n",
      "%%%%%%\n",
      "%    %\n",
      "% %  %\n",
      "%Bb .%\n",
      "%P%%%%\n",
      "% %%%%\n",
      "%%%%%\n",
      "Press enter to continue\n",
      "['5,1', '5,1', '5,1', '5,1', '5,1', '5,1']\n",
      "%%%%%%\n",
      "%    %\n",
      "% %  %\n",
      "%Bb .%\n",
      "%P%%%%\n",
      "% %%%%\n",
      "%%%%%\n",
      "Press enter to continue\n",
      "['1,3', '1,3', '1,3', '1,3', '1,3', '1,3']\n",
      "%%%%%%\n",
      "%    %\n",
      "% %  %\n",
      "%Bb .%\n",
      "%P%%%%\n",
      "% %%%%\n",
      "%%%%%\n",
      "Press enter to continue\n",
      "['1,2', '1,2', '1,2', '1,2', '1,2', '1,2', '1,2']\n",
      "%%%%%%\n",
      "%    %\n",
      "% %  %\n",
      "%Bb .%\n",
      "%P%%%%\n",
      "% %%%%\n",
      "%%%%%\n",
      "Press enter to continue\n",
      "['4,1', '4,1', '4,1', '4,1', '4,1']\n",
      "%%%%%%\n",
      "%    %\n",
      "% %  %\n",
      "%Bb .%\n",
      "%P%%%%\n",
      "% %%%%\n",
      "%%%%%\n",
      "Press enter to continue\n",
      "['1,4', '1,4', '1,4', '1,4', '1,4', '1,4']\n",
      "%%%%%%\n",
      "%    %\n",
      "% %  %\n",
      "%Bb .%\n",
      "%P%%%%\n",
      "% %%%%\n",
      "%%%%%\n",
      "Press enter to continue\n",
      "['4,1', '4,1', '4,1', '4,1', '4,1', '4,1', '4,1']\n",
      "%%%%%%\n",
      "%    %\n",
      "% %  %\n",
      "%Bb .%\n",
      "%P%%%%\n",
      "% %%%%\n",
      "%%%%%\n",
      "Press enter to continue\n",
      "['2,4', '2,4', '2,4', '2,4', '2,4', '2,4', '2,4']\n",
      "%%%%%%\n",
      "%    %\n",
      "% %  %\n",
      "%Bb .%\n",
      "%P%%%%\n",
      "% %%%%\n",
      "%%%%%\n",
      "Press enter to continue\n",
      "['1,3', '1,3', '1,3', '1,3', '1,3', '1,3', '1,3']\n",
      "%%%%%%\n",
      "%    %\n",
      "% %  %\n",
      "%Bb .%\n",
      "%P%%%%\n",
      "% %%%%\n",
      "%%%%%\n",
      "Press enter to continue\n",
      "['1,4', '1,4', '1,4', '1,4', '1,4', '1,4', '1,4']\n",
      "%%%%%%\n",
      "%    %\n",
      "% %  %\n",
      "%Bb .%\n",
      "%P%%%%\n",
      "% %%%%\n",
      "%%%%%\n",
      "Press enter to continue\n",
      "['3,4', '3,4', '3,4', '3,4', '3,4', '3,4', '3,4', '3,4', '3,4']\n",
      "%%%%%%\n",
      "%    %\n",
      "% %  %\n",
      "%Bb .%\n",
      "%P%%%%\n",
      "% %%%%\n",
      "%%%%%\n",
      "Press enter to continue\n",
      "['2,3', '2,3', '2,3', '2,3', '2,3', '2,3', '2,3', '2,3', '2,3', '2,3', '2,3']\n",
      "%%%%%%\n",
      "%    %\n",
      "% %  %\n",
      "%Bb .%\n",
      "%P%%%%\n",
      "% %%%%\n",
      "%%%%%\n",
      "Press enter to continue\n",
      "['1,4', '1,4', '1,4', '1,4', '1,4', '1,4', '1,4', '1,4', '1,4', '1,4', '1,4', '1,4']\n",
      "%%%%%%\n",
      "%    %\n",
      "% %  %\n",
      "%Bb .%\n",
      "%P%%%%\n",
      "% %%%%\n",
      "%%%%%\n",
      "Press enter to continue\n",
      "['2,4', '2,4', '2,4', '2,4', '2,4', '2,4', '2,4', '2,4', '2,4', '2,4', '2,4', '2,4', '2,4', '2,4']\n",
      "%%%%%%\n",
      "%    %\n",
      "% %  %\n",
      "%Bb .%\n",
      "%P%%%%\n",
      "% %%%%\n",
      "%%%%%\n",
      "Press enter to continue\n",
      "['1,3', '1,3', '1,3', '1,3', '1,3', '1,3', '1,3', '1,3', '1,3', '1,3', '1,3', '1,3', '1,3', '1,3', '1,3']\n",
      "%%%%%%\n",
      "%    %\n",
      "% %  %\n",
      "%Bb .%\n",
      "%P%%%%\n",
      "% %%%%\n",
      "%%%%%\n",
      "Press enter to continue\n",
      "['1,3', '1,3', '1,3', '1,3', '1,3', '1,3', '1,3', '1,3', '1,3', '1,3', '1,3', '1,3', '1,3', '1,3', '1,3', '1,3']\n",
      "%%%%%%\n",
      "%    %\n",
      "% %  %\n",
      "%Bb .%\n",
      "%P%%%%\n",
      "% %%%%\n",
      "%%%%%\n",
      "Press enter to continue\n",
      "['3,3', '3,3', '3,3', '3,3', '3,3', '3,3', '3,3', '3,3', '3,3', '3,3', '3,3', '3,3', '3,3', '3,3', '3,3', '3,3']\n",
      "%%%%%%\n",
      "%    %\n",
      "% %  %\n",
      "%Bb .%\n",
      "%P%%%%\n",
      "% %%%%\n",
      "%%%%%\n",
      "Press enter to continue\n",
      "['3,3', '3,3', '3,3', '3,3', '3,3', '3,3', '3,3', '3,3', '3,3', '3,3', '3,3', '3,3', '3,3', '3,3', '3,3', '3,3', '3,3']\n",
      "%%%%%%\n",
      "%    %\n",
      "% %  %\n",
      "%Bb .%\n",
      "%P%%%%\n",
      "% %%%%\n",
      "%%%%%\n",
      "Press enter to continue\n",
      "['1,4', '1,4', '1,4', '1,4', '1,4', '1,4', '1,4', '1,4', '1,4', '1,4', '1,4', '1,4', '1,4']\n",
      "%%%%%%\n",
      "%    %\n",
      "% %  %\n",
      "%Bb .%\n",
      "%P%%%%\n",
      "% %%%%\n",
      "%%%%%\n",
      "Press enter to continue\n",
      "['3,4', '3,4', '3,4', '3,4', '3,4', '3,4', '3,4', '3,4', '3,4', '3,4', '3,4', '3,4', '3,4', '3,4', '3,4']\n",
      "%%%%%%\n",
      "%    %\n",
      "% %  %\n",
      "%Bb .%\n",
      "%P%%%%\n",
      "% %%%%\n",
      "%%%%%\n",
      "Press enter to continue\n",
      "['2,3', '2,3', '2,3', '2,3', '2,3', '2,3', '2,3', '2,3', '2,3', '2,3', '2,3', '2,3', '2,3', '2,3', '2,3', '2,3', '2,3']\n",
      "%%%%%%\n",
      "%    %\n",
      "% %  %\n",
      "%Bb .%\n",
      "%P%%%%\n",
      "% %%%%\n",
      "%%%%%\n",
      "Press enter to continue\n",
      "['1,2', '1,2', '1,2', '1,2', '1,2', '1,2', '1,2', '1,2', '1,2', '1,2', '1,2', '1,2', '1,2', '1,2', '1,2', '1,2', '1,2', '1,2']\n",
      "%%%%%%\n",
      "%    %\n",
      "% %  %\n",
      "%Bb .%\n",
      "%P%%%%\n",
      "% %%%%\n",
      "%%%%%\n",
      "Press enter to continue\n",
      "['5,1', '5,1', '5,1', '5,1', '5,1', '5,1', '5,1', '5,1', '5,1', '5,1', '5,1', '5,1', '5,1', '5,1', '5,1', '5,1']\n",
      "%%%%%%\n",
      "%    %\n",
      "% %  %\n",
      "%Bb .%\n",
      "%P%%%%\n",
      "% %%%%\n",
      "%%%%%\n",
      "Press enter to continue\n",
      "['3,3', '3,3', '3,3', '3,3', '3,3', '3,3', '3,3', '3,3', '3,3']\n",
      "%%%%%%\n",
      "%    %\n",
      "% %  %\n",
      "%Bb .%\n",
      "%P%%%%\n",
      "% %%%%\n",
      "%%%%%\n",
      "Press enter to continue\n",
      "['4,1', '4,1', '4,1', '4,1', '4,1', '4,1']\n",
      "%%%%%%\n",
      "%    %\n",
      "% %  %\n",
      "%Bb .%\n",
      "%P%%%%\n",
      "% %%%%\n",
      "%%%%%\n",
      "Press enter to continue\n",
      "['4,1', '4,1', '4,1', '4,1']\n",
      "%%%%%%\n",
      "%    %\n",
      "% %  %\n",
      "%Bb .%\n",
      "%P%%%%\n",
      "% %%%%\n",
      "%%%%%\n",
      "Press enter to continue\n",
      "['3,4', '3,4', '3,4', '3,4', '3,4', '3,4']\n",
      "%%%%%%\n",
      "%    %\n",
      "% %  %\n",
      "%Bb .%\n",
      "%P%%%%\n",
      "% %%%%\n",
      "%%%%%\n",
      "Press enter to continue\n",
      "['1,2', '1,2', '1,2', '1,2', '1,2', '1,2', '1,2']\n",
      "%%%%%%\n",
      "%    %\n",
      "% %  %\n",
      "%Bb .%\n",
      "%P%%%%\n",
      "% %%%%\n",
      "%%%%%\n",
      "Press enter to continue\n",
      "['5,1', '5,1', '5,1', '5,1', '5,1', '5,1', '5,1', '5,1']\n",
      "%%%%%%\n",
      "%    %\n",
      "% %  %\n",
      "%Bb .%\n",
      "%P%%%%\n",
      "% %%%%\n",
      "%%%%%\n",
      "Press enter to continue\n",
      "['2,4', '2,4', '2,4', '2,4', '2,4', '2,4', '2,4', '2,4', '2,4']\n",
      "%%%%%%\n",
      "%    %\n",
      "% %  %\n",
      "%Bb .%\n",
      "%P%%%%\n",
      "% %%%%\n",
      "%%%%%\n",
      "Press enter to continue\n",
      "['3,3', '3,3', '3,3', '3,3', '3,3', '3,3', '3,3', '3,3', '3,3']\n",
      "%%%%%%\n",
      "%    %\n",
      "% %  %\n",
      "%Bb .%\n",
      "%P%%%%\n",
      "% %%%%\n",
      "%%%%%\n",
      "Press enter to continue\n",
      "['3,3', '3,3', '3,3', '3,3', '3,3', '3,3', '3,3', '3,3', '3,3', '3,3']\n",
      "%%%%%%\n",
      "%    %\n",
      "% %  %\n",
      "%Bb .%\n",
      "%P%%%%\n",
      "% %%%%\n",
      "%%%%%\n",
      "Press enter to continue\n",
      "['2,1', '2,1', '2,1', '2,1', '2,1', '2,1', '2,1', '2,1', '2,1', '2,1', '2,1']\n",
      "%%%%%%\n",
      "%    %\n",
      "% %  %\n",
      "%Bb .%\n",
      "%P%%%%\n",
      "% %%%%\n",
      "%%%%%\n",
      "Press enter to continue\n",
      "['1,3', '1,3', '1,3', '1,3', '1,3', '1,3', '1,3', '1,3', '1,3', '1,3', '1,3', '1,3']\n",
      "%%%%%%\n",
      "%    %\n",
      "% %  %\n",
      "%Bb .%\n",
      "%P%%%%\n",
      "% %%%%\n",
      "%%%%%\n",
      "Press enter to continue\n"
     ]
    },
    {
     "ename": "KeyboardInterrupt",
     "evalue": "",
     "output_type": "error",
     "traceback": [
      "\u001b[1;31m---------------------------------------------------------------------------\u001b[0m",
      "\u001b[1;31mKeyboardInterrupt\u001b[0m                         Traceback (most recent call last)",
      "\u001b[1;32mC:\\Users\\lcwadle\\AppData\\Local\\Continuum\\Anaconda3\\lib\\site-packages\\ipykernel\\kernelbase.py\u001b[0m in \u001b[0;36m_input_request\u001b[1;34m(self, prompt, ident, parent, password)\u001b[0m\n\u001b[0;32m    729\u001b[0m             \u001b[1;32mtry\u001b[0m\u001b[1;33m:\u001b[0m\u001b[1;33m\u001b[0m\u001b[0m\n\u001b[1;32m--> 730\u001b[1;33m                 \u001b[0mident\u001b[0m\u001b[1;33m,\u001b[0m \u001b[0mreply\u001b[0m \u001b[1;33m=\u001b[0m \u001b[0mself\u001b[0m\u001b[1;33m.\u001b[0m\u001b[0msession\u001b[0m\u001b[1;33m.\u001b[0m\u001b[0mrecv\u001b[0m\u001b[1;33m(\u001b[0m\u001b[0mself\u001b[0m\u001b[1;33m.\u001b[0m\u001b[0mstdin_socket\u001b[0m\u001b[1;33m,\u001b[0m \u001b[1;36m0\u001b[0m\u001b[1;33m)\u001b[0m\u001b[1;33m\u001b[0m\u001b[0m\n\u001b[0m\u001b[0;32m    731\u001b[0m             \u001b[1;32mexcept\u001b[0m \u001b[0mException\u001b[0m\u001b[1;33m:\u001b[0m\u001b[1;33m\u001b[0m\u001b[0m\n",
      "\u001b[1;32mC:\\Users\\lcwadle\\AppData\\Local\\Continuum\\Anaconda3\\lib\\site-packages\\jupyter_client\\session.py\u001b[0m in \u001b[0;36mrecv\u001b[1;34m(self, socket, mode, content, copy)\u001b[0m\n\u001b[0;32m    777\u001b[0m         \u001b[1;32mtry\u001b[0m\u001b[1;33m:\u001b[0m\u001b[1;33m\u001b[0m\u001b[0m\n\u001b[1;32m--> 778\u001b[1;33m             \u001b[0mmsg_list\u001b[0m \u001b[1;33m=\u001b[0m \u001b[0msocket\u001b[0m\u001b[1;33m.\u001b[0m\u001b[0mrecv_multipart\u001b[0m\u001b[1;33m(\u001b[0m\u001b[0mmode\u001b[0m\u001b[1;33m,\u001b[0m \u001b[0mcopy\u001b[0m\u001b[1;33m=\u001b[0m\u001b[0mcopy\u001b[0m\u001b[1;33m)\u001b[0m\u001b[1;33m\u001b[0m\u001b[0m\n\u001b[0m\u001b[0;32m    779\u001b[0m         \u001b[1;32mexcept\u001b[0m \u001b[0mzmq\u001b[0m\u001b[1;33m.\u001b[0m\u001b[0mZMQError\u001b[0m \u001b[1;32mas\u001b[0m \u001b[0me\u001b[0m\u001b[1;33m:\u001b[0m\u001b[1;33m\u001b[0m\u001b[0m\n",
      "\u001b[1;32mC:\\Users\\lcwadle\\AppData\\Local\\Continuum\\Anaconda3\\lib\\site-packages\\zmq\\sugar\\socket.py\u001b[0m in \u001b[0;36mrecv_multipart\u001b[1;34m(self, flags, copy, track)\u001b[0m\n\u001b[0;32m    394\u001b[0m         \"\"\"\n\u001b[1;32m--> 395\u001b[1;33m         \u001b[0mparts\u001b[0m \u001b[1;33m=\u001b[0m \u001b[1;33m[\u001b[0m\u001b[0mself\u001b[0m\u001b[1;33m.\u001b[0m\u001b[0mrecv\u001b[0m\u001b[1;33m(\u001b[0m\u001b[0mflags\u001b[0m\u001b[1;33m,\u001b[0m \u001b[0mcopy\u001b[0m\u001b[1;33m=\u001b[0m\u001b[0mcopy\u001b[0m\u001b[1;33m,\u001b[0m \u001b[0mtrack\u001b[0m\u001b[1;33m=\u001b[0m\u001b[0mtrack\u001b[0m\u001b[1;33m)\u001b[0m\u001b[1;33m]\u001b[0m\u001b[1;33m\u001b[0m\u001b[0m\n\u001b[0m\u001b[0;32m    396\u001b[0m         \u001b[1;31m# have first part already, only loop while more to receive\u001b[0m\u001b[1;33m\u001b[0m\u001b[1;33m\u001b[0m\u001b[0m\n",
      "\u001b[1;32mzmq/backend/cython/socket.pyx\u001b[0m in \u001b[0;36mzmq.backend.cython.socket.Socket.recv (zmq\\backend\\cython\\socket.c:7683)\u001b[1;34m()\u001b[0m\n",
      "\u001b[1;32mzmq/backend/cython/socket.pyx\u001b[0m in \u001b[0;36mzmq.backend.cython.socket.Socket.recv (zmq\\backend\\cython\\socket.c:7460)\u001b[1;34m()\u001b[0m\n",
      "\u001b[1;32mzmq/backend/cython/socket.pyx\u001b[0m in \u001b[0;36mzmq.backend.cython.socket._recv_copy (zmq\\backend\\cython\\socket.c:2344)\u001b[1;34m()\u001b[0m\n",
      "\u001b[1;32mC:\\Users\\lcwadle\\AppData\\Local\\Continuum\\Anaconda3\\lib\\site-packages\\zmq\\backend\\cython\\checkrc.pxd\u001b[0m in \u001b[0;36mzmq.backend.cython.checkrc._check_rc (zmq\\backend\\cython\\socket.c:9621)\u001b[1;34m()\u001b[0m\n",
      "\u001b[1;31mKeyboardInterrupt\u001b[0m: ",
      "\nDuring handling of the above exception, another exception occurred:\n",
      "\u001b[1;31mKeyboardInterrupt\u001b[0m                         Traceback (most recent call last)",
      "\u001b[1;32m<ipython-input-283-3de9641d3701>\u001b[0m in \u001b[0;36m<module>\u001b[1;34m()\u001b[0m\n\u001b[1;32m----> 1\u001b[1;33m \u001b[0minput1\u001b[0m\u001b[1;33m.\u001b[0m\u001b[0mrunSokobanSearch\u001b[0m\u001b[1;33m(\u001b[0m\u001b[1;34m'bfs'\u001b[0m\u001b[1;33m)\u001b[0m\u001b[1;33m\u001b[0m\u001b[0m\n\u001b[0m",
      "\u001b[1;32m<ipython-input-270-2bad6363cdc6>\u001b[0m in \u001b[0;36mrunSokobanSearch\u001b[1;34m(self, searchType)\u001b[0m\n\u001b[0;32m     81\u001b[0m             \u001b[1;32mif\u001b[0m \u001b[0msearchType\u001b[0m \u001b[1;33m==\u001b[0m \u001b[1;34m'bfs'\u001b[0m\u001b[1;33m:\u001b[0m\u001b[1;33m\u001b[0m\u001b[0m\n\u001b[0;32m     82\u001b[0m                 \u001b[0mnextState\u001b[0m \u001b[1;33m=\u001b[0m \u001b[0mself\u001b[0m\u001b[1;33m.\u001b[0m\u001b[0mfrontier\u001b[0m\u001b[1;33m.\u001b[0m\u001b[0mpopleft\u001b[0m\u001b[1;33m(\u001b[0m\u001b[1;33m)\u001b[0m\u001b[1;33m\u001b[0m\u001b[0m\n\u001b[1;32m---> 83\u001b[1;33m                 \u001b[0mstate\u001b[0m \u001b[1;33m=\u001b[0m \u001b[0msokobanMove\u001b[0m\u001b[1;33m(\u001b[0m\u001b[0mnextState\u001b[0m\u001b[1;33m,\u001b[0m \u001b[0mself\u001b[0m\u001b[1;33m)\u001b[0m\u001b[1;33m\u001b[0m\u001b[0m\n\u001b[0m\u001b[0;32m     84\u001b[0m \u001b[1;33m\u001b[0m\u001b[0m\n\u001b[0;32m     85\u001b[0m             \u001b[1;32mif\u001b[0m \u001b[0msearchType\u001b[0m \u001b[1;33m==\u001b[0m \u001b[1;34m'astarv2'\u001b[0m\u001b[1;33m:\u001b[0m\u001b[1;33m\u001b[0m\u001b[0m\n",
      "\u001b[1;32m<ipython-input-260-8d8fbf9e8c53>\u001b[0m in \u001b[0;36msokobanMove\u001b[1;34m(state, maze)\u001b[0m\n\u001b[0;32m     24\u001b[0m         \u001b[1;32mreturn\u001b[0m \u001b[0mstate\u001b[0m\u001b[1;33m\u001b[0m\u001b[0m\n\u001b[0;32m     25\u001b[0m     \u001b[1;32melse\u001b[0m\u001b[1;33m:\u001b[0m\u001b[1;33m\u001b[0m\u001b[0m\n\u001b[1;32m---> 26\u001b[1;33m         \u001b[0maddToFrontierSokoban\u001b[0m\u001b[1;33m(\u001b[0m\u001b[0mstate\u001b[0m\u001b[1;33m,\u001b[0m \u001b[0mmaze\u001b[0m\u001b[1;33m)\u001b[0m\u001b[1;33m\u001b[0m\u001b[0m\n\u001b[0m\u001b[0;32m     27\u001b[0m         \u001b[0mmaze\u001b[0m\u001b[1;33m.\u001b[0m\u001b[0mexplored\u001b[0m\u001b[1;33m[\u001b[0m\u001b[0mhash\u001b[0m\u001b[1;33m(\u001b[0m\u001b[0mstate\u001b[0m\u001b[1;33m)\u001b[0m\u001b[1;33m]\u001b[0m \u001b[1;33m=\u001b[0m \u001b[0mstate\u001b[0m\u001b[1;33m\u001b[0m\u001b[0m\n\u001b[0;32m     28\u001b[0m         \u001b[1;32mreturn\u001b[0m \u001b[0mstate\u001b[0m\u001b[1;33m\u001b[0m\u001b[0m\n",
      "\u001b[1;32m<ipython-input-281-b1b304fb4f73>\u001b[0m in \u001b[0;36maddToFrontierSokoban\u001b[1;34m(state, maze)\u001b[0m\n\u001b[0;32m    138\u001b[0m     \u001b[0mprint\u001b[0m\u001b[1;33m(\u001b[0m\u001b[0mprintedFrontier\u001b[0m\u001b[1;33m)\u001b[0m\u001b[1;33m\u001b[0m\u001b[0m\n\u001b[0;32m    139\u001b[0m     \u001b[0mmaze\u001b[0m\u001b[1;33m.\u001b[0m\u001b[0mprintMaze\u001b[0m\u001b[1;33m(\u001b[0m\u001b[1;33m)\u001b[0m\u001b[1;33m\u001b[0m\u001b[0m\n\u001b[1;32m--> 140\u001b[1;33m     \u001b[0minput\u001b[0m\u001b[1;33m(\u001b[0m\u001b[1;34m\"Press enter to continue\"\u001b[0m\u001b[1;33m)\u001b[0m\u001b[1;33m\u001b[0m\u001b[0m\n\u001b[0m",
      "\u001b[1;32mC:\\Users\\lcwadle\\AppData\\Local\\Continuum\\Anaconda3\\lib\\site-packages\\ipykernel\\kernelbase.py\u001b[0m in \u001b[0;36mraw_input\u001b[1;34m(self, prompt)\u001b[0m\n\u001b[0;32m    703\u001b[0m             \u001b[0mself\u001b[0m\u001b[1;33m.\u001b[0m\u001b[0m_parent_ident\u001b[0m\u001b[1;33m,\u001b[0m\u001b[1;33m\u001b[0m\u001b[0m\n\u001b[0;32m    704\u001b[0m             \u001b[0mself\u001b[0m\u001b[1;33m.\u001b[0m\u001b[0m_parent_header\u001b[0m\u001b[1;33m,\u001b[0m\u001b[1;33m\u001b[0m\u001b[0m\n\u001b[1;32m--> 705\u001b[1;33m             \u001b[0mpassword\u001b[0m\u001b[1;33m=\u001b[0m\u001b[1;32mFalse\u001b[0m\u001b[1;33m,\u001b[0m\u001b[1;33m\u001b[0m\u001b[0m\n\u001b[0m\u001b[0;32m    706\u001b[0m         )\n\u001b[0;32m    707\u001b[0m \u001b[1;33m\u001b[0m\u001b[0m\n",
      "\u001b[1;32mC:\\Users\\lcwadle\\AppData\\Local\\Continuum\\Anaconda3\\lib\\site-packages\\ipykernel\\kernelbase.py\u001b[0m in \u001b[0;36m_input_request\u001b[1;34m(self, prompt, ident, parent, password)\u001b[0m\n\u001b[0;32m    733\u001b[0m             \u001b[1;32mexcept\u001b[0m \u001b[0mKeyboardInterrupt\u001b[0m\u001b[1;33m:\u001b[0m\u001b[1;33m\u001b[0m\u001b[0m\n\u001b[0;32m    734\u001b[0m                 \u001b[1;31m# re-raise KeyboardInterrupt, to truncate traceback\u001b[0m\u001b[1;33m\u001b[0m\u001b[1;33m\u001b[0m\u001b[0m\n\u001b[1;32m--> 735\u001b[1;33m                 \u001b[1;32mraise\u001b[0m \u001b[0mKeyboardInterrupt\u001b[0m\u001b[1;33m\u001b[0m\u001b[0m\n\u001b[0m\u001b[0;32m    736\u001b[0m             \u001b[1;32melse\u001b[0m\u001b[1;33m:\u001b[0m\u001b[1;33m\u001b[0m\u001b[0m\n\u001b[0;32m    737\u001b[0m                 \u001b[1;32mbreak\u001b[0m\u001b[1;33m\u001b[0m\u001b[0m\n",
      "\u001b[1;31mKeyboardInterrupt\u001b[0m: "
     ]
    }
   ],
   "source": [
    "input1.runSokobanSearch('bfs')"
   ]
  },
  {
   "cell_type": "code",
   "execution_count": null,
   "metadata": {
    "collapsed": true
   },
   "outputs": [],
   "source": []
  }
 ],
 "metadata": {
  "kernelspec": {
   "display_name": "Python 3",
   "language": "python",
   "name": "python3"
  },
  "language_info": {
   "codemirror_mode": {
    "name": "ipython",
    "version": 3
   },
   "file_extension": ".py",
   "mimetype": "text/x-python",
   "name": "python",
   "nbconvert_exporter": "python",
   "pygments_lexer": "ipython3",
   "version": "3.6.1"
  }
 },
 "nbformat": 4,
 "nbformat_minor": 2
}
